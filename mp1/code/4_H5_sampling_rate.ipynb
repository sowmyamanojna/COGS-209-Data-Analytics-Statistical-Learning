{
 "cells": [
  {
   "cell_type": "markdown",
   "id": "7ecca8d4",
   "metadata": {},
   "source": [
    "# Hypothesis 3\n",
    "\n",
    "Hypothesis: Model perform better on males than on females"
   ]
  },
  {
   "cell_type": "code",
   "execution_count": 1,
   "id": "4bca76c2",
   "metadata": {},
   "outputs": [],
   "source": [
    "import os\n",
    "import pickle\n",
    "import numpy as np\n",
    "import pandas as pd\n",
    "import matplotlib.pyplot as plt\n",
    "from tqdm.notebook import tqdm, trange\n",
    "\n",
    "# sklearn models, evaluation and cross validation\n",
    "from sklearn.decomposition import PCA\n",
    "from sklearn.metrics import accuracy_score, f1_score\n",
    "from sklearn.model_selection import cross_val_score\n",
    "from sklearn.linear_model import LogisticRegression\n",
    "from sklearn.ensemble import RandomForestClassifier\n",
    "from sklearn.model_selection import train_test_split, cross_validate\n",
    "\n",
    "# Plotting settings\n",
    "# In case the font Cambria is not locally installed in you system, \n",
    "# comment out the line below\n",
    "plt.rcParams['font.serif'] = \"Cambria\"\n",
    "plt.rcParams['font.family'] = \"serif\"\n",
    "plt.rcParams['font.size'] = 14\n",
    "plt.rcParams['axes.grid'] = True\n",
    "plt.rcParams['figure.figsize'] = 10,6\n",
    "\n",
    "# Set seed for reproducilibity\n",
    "np.random.seed(0)\n",
    "\n",
    "# Define data paths that are necessary\n",
    "DPATH = \"../data/\"\n",
    "RPATH = \"../results/\"\n",
    "CNPATH = \"../data/control/\"\n",
    "CDPATH = \"../data/condition/\""
   ]
  },
  {
   "cell_type": "code",
   "execution_count": 2,
   "id": "e56cb7de",
   "metadata": {},
   "outputs": [],
   "source": [
    "# Custom scoring function to approach the hypothesis\n",
    "def madrs_scores(model, X, y):\n",
    "    madrs1 = X[:, -2]\n",
    "    madrs2 = X[:, -2]\n",
    "    y_pred = model.predict(X)\n",
    "    \n",
    "    avg_madrs = (madrs1+madrs2)//2\n",
    "    # Identifying mild and severe depression\n",
    "    mild = np.where(avg_madrs < 20)[0]\n",
    "    severe = np.where(~(avg_madrs < 20))[0]\n",
    "    \n",
    "    mild_acc = accuracy_score(y[mild], y_pred[mild])\n",
    "    severe_acc = accuracy_score(y[severe], y_pred[severe])\n",
    "    \n",
    "    mild_f1 = f1_score(y[mild], y_pred[mild])\n",
    "    severe_f1 = f1_score(y[severe], y_pred[severe])\n",
    "    \n",
    "    accuracy = accuracy_score(y, y_pred)\n",
    "    f1 = f1_score(y, y_pred)\n",
    "    \n",
    "    return {\"mild_acc\": mild_acc, \"mild_f1\": mild_f1, \\\n",
    "            \"severe_acc\": severe_acc, \"severe_f1\": severe_f1, \\\n",
    "            \"accuracy\": accuracy, \"f1\": f1}"
   ]
  },
  {
   "cell_type": "code",
   "execution_count": 3,
   "id": "d40d8a8d",
   "metadata": {},
   "outputs": [
    {
     "name": "stdout",
     "output_type": "stream",
     "text": [
      "(773, 1442) (773,) (773, 775)\n"
     ]
    }
   ],
   "source": [
    "# Load dataset\n",
    "X = np.load(DPATH+\"final_X_madrs.npy\")\n",
    "y = np.load(DPATH+\"final_y.npy\")\n",
    "y = y.reshape(-1, )\n",
    "\n",
    "pca = PCA()\n",
    "X_transformed = pca.fit_transform(X[:, :-2])\n",
    "X_transformed = np.hstack([X_transformed, X[:, -2:]])\n",
    "\n",
    "print(X.shape, y.shape, X_transformed.shape)"
   ]
  },
  {
   "cell_type": "code",
   "execution_count": 4,
   "id": "30706c9b",
   "metadata": {},
   "outputs": [
    {
     "name": "stdout",
     "output_type": "stream",
     "text": [
      "(618, 1442)\n",
      "(124, 1442)\n",
      "(31, 1442)\n"
     ]
    }
   ],
   "source": [
    "# Test train split\n",
    "X_train, X_test, y_train, y_test = train_test_split(X, y, test_size=0.20, random_state=42)\n",
    "X_val, X_test, y_val, y_test = train_test_split(X_test, y_test, test_size=0.20, random_state=42)\n",
    "\n",
    "print(X_train.shape)\n",
    "print(X_val.shape)\n",
    "print(X_test.shape)"
   ]
  },
  {
   "cell_type": "code",
   "execution_count": 5,
   "id": "8509299f",
   "metadata": {},
   "outputs": [
    {
     "name": "stdout",
     "output_type": "stream",
     "text": [
      "train accuracy: 1.0\n",
      "val accuracy: 0.5483870967741935\n",
      "test accuracy: 0.3548387096774194\n"
     ]
    }
   ],
   "source": [
    "lr = LogisticRegression(random_state=42, max_iter=int(1e3))\n",
    "lr.fit(X_train, y_train)\n",
    "y_train_pred = lr.predict(X_train)\n",
    "y_val_pred = lr.predict(X_val)\n",
    "y_test_pred = lr.predict(X_test)\n",
    "train_accuracy = accuracy_score(y_train, y_train_pred)\n",
    "val_accuracy = accuracy_score(y_val, y_val_pred)\n",
    "test_accuracy = accuracy_score(y_test, y_test_pred)\n",
    "\n",
    "print(\"train accuracy:\", train_accuracy)\n",
    "print(\"val accuracy:\", val_accuracy)\n",
    "print(\"test accuracy:\", test_accuracy)"
   ]
  },
  {
   "cell_type": "code",
   "execution_count": 6,
   "id": "42609b8d",
   "metadata": {},
   "outputs": [
    {
     "data": {
      "text/plain": [
       "fit_time           0.227965\n",
       "score_time         0.003072\n",
       "test_mild_acc      0.573788\n",
       "test_mild_f1       0.241556\n",
       "test_severe_acc    0.479380\n",
       "test_severe_f1     0.635959\n",
       "test_accuracy      0.549730\n",
       "test_f1            0.460966\n",
       "dtype: float64"
      ]
     },
     "metadata": {},
     "output_type": "display_data"
    }
   ],
   "source": [
    "# Cross Validaiton\n",
    "cv = 20\n",
    "scores = cross_validate(lr, X, y, cv=cv, scoring=madrs_scores)\n",
    "df_lr = pd.DataFrame(scores, index=range(cv))\n",
    "df_lr.to_csv(RPATH+\"H4_lr_cv.csv\")\n",
    "display(df_lr.mean())"
   ]
  },
  {
   "cell_type": "markdown",
   "id": "5a65767c",
   "metadata": {},
   "source": [
    "---\n",
    "Clearly logistic regression is doing a poor job here\n",
    "---"
   ]
  },
  {
   "cell_type": "code",
   "execution_count": 7,
   "id": "1f2d6a5a",
   "metadata": {},
   "outputs": [
    {
     "name": "stdout",
     "output_type": "stream",
     "text": [
      "train accuracy: 1.0\n",
      "val accuracy: 0.9032258064516129\n",
      "test accuracy: 0.8709677419354839\n"
     ]
    }
   ],
   "source": [
    "rf = RandomForestClassifier()\n",
    "rf.fit(X_train, y_train)\n",
    "y_train_pred = rf.predict(X_train)\n",
    "y_val_pred = rf.predict(X_val)\n",
    "y_test_pred = rf.predict(X_test)\n",
    "train_accuracy = accuracy_score(y_train, y_train_pred)\n",
    "val_accuracy = accuracy_score(y_val, y_val_pred)\n",
    "test_accuracy = accuracy_score(y_test, y_test_pred)\n",
    "\n",
    "print(\"train accuracy:\", train_accuracy)\n",
    "print(\"val accuracy:\", val_accuracy)\n",
    "print(\"test accuracy:\", test_accuracy)"
   ]
  },
  {
   "cell_type": "code",
   "execution_count": 8,
   "id": "4616f581",
   "metadata": {},
   "outputs": [
    {
     "data": {
      "text/plain": [
       "fit_time           0.667859\n",
       "score_time         0.006607\n",
       "test_mild_acc      0.947867\n",
       "test_mild_f1       0.845885\n",
       "test_severe_acc    0.933155\n",
       "test_severe_f1     0.963565\n",
       "test_accuracy      0.943117\n",
       "test_f1            0.928020\n",
       "dtype: float64"
      ]
     },
     "metadata": {},
     "output_type": "display_data"
    }
   ],
   "source": [
    "# Cross Validaiton\n",
    "cv = 20\n",
    "scores = cross_validate(rf, X, y, cv=cv, scoring=madrs_scores)\n",
    "df_rf = pd.DataFrame(scores, index=range(cv))\n",
    "df_rf.to_csv(RPATH+\"H4_rf_cv.csv\")\n",
    "display(df_rf.mean())"
   ]
  },
  {
   "cell_type": "markdown",
   "id": "0d7051e5",
   "metadata": {},
   "source": [
    "---\n",
    "Well, random forest even without finetuning is performing well with default parameters\n",
    "---\n",
    "\n",
    "To do:\n",
    "- [ ] Same as above;\n",
    "- [ ] Grid Search for both"
   ]
  },
  {
   "cell_type": "markdown",
   "id": "ce3e1947",
   "metadata": {},
   "source": [
    "## Trying Dimensionality Reduction techniques"
   ]
  },
  {
   "cell_type": "code",
   "execution_count": 9,
   "id": "552a6377",
   "metadata": {},
   "outputs": [],
   "source": [
    "pca = PCA()\n",
    "pca.fit(X_train[:, :-2])\n",
    "X_train_transformed = pca.transform(X_train[:, :-2])\n",
    "X_train_transformed = np.hstack([X_train_transformed, X_train[:, -2:]])\n",
    "X_val_transformed = pca.transform(X_val[:, :-2])\n",
    "X_val_transformed = np.hstack([X_val_transformed, X_val[:, -2:]])\n",
    "X_test_transformed = pca.transform(X_test[:, :-2])\n",
    "X_test_transformed = np.hstack([X_test_transformed, X_test[:, -2:]])"
   ]
  },
  {
   "cell_type": "code",
   "execution_count": 10,
   "id": "09049834",
   "metadata": {},
   "outputs": [
    {
     "data": {
      "image/png": "[encoded data removed]",
      "text/plain": [
       "<Figure size 1000x600 with 1 Axes>"
      ]
     },
     "metadata": {},
     "output_type": "display_data"
    }
   ],
   "source": [
    "plt.figure()\n",
    "plt.plot(pca.explained_variance_ratio_[:50], '.')\n",
    "plt.show()"
   ]
  },
  {
   "cell_type": "code",
   "execution_count": 11,
   "id": "885a8fe7",
   "metadata": {},
   "outputs": [
    {
     "name": "stdout",
     "output_type": "stream",
     "text": [
      "train accuracy: 1.0\n",
      "val accuracy: 0.5483870967741935\n",
      "test accuracy: 0.5161290322580645\n"
     ]
    }
   ],
   "source": [
    "lr_pca = LogisticRegression(random_state=42, max_iter=int(1e3))\n",
    "lr_pca.fit(X_train_transformed, y_train)\n",
    "y_train_pred = lr_pca.predict(X_train_transformed)\n",
    "y_val_pred = lr_pca.predict(X_val_transformed)\n",
    "y_test_pred = lr_pca.predict(X_test_transformed)\n",
    "train_accuracy = accuracy_score(y_train, y_train_pred)\n",
    "val_accuracy = accuracy_score(y_val, y_val_pred)\n",
    "test_accuracy = accuracy_score(y_test, y_test_pred)\n",
    "\n",
    "print(\"train accuracy:\", train_accuracy)\n",
    "print(\"val accuracy:\", val_accuracy)\n",
    "print(\"test accuracy:\", test_accuracy)"
   ]
  },
  {
   "cell_type": "code",
   "execution_count": 12,
   "id": "fbb5e17c",
   "metadata": {},
   "outputs": [
    {
     "data": {
      "text/plain": [
       "fit_time           0.129946\n",
       "score_time         0.003202\n",
       "test_mild_acc      0.432109\n",
       "test_mild_f1       0.359831\n",
       "test_severe_acc    0.813784\n",
       "test_severe_f1     0.893000\n",
       "test_accuracy      0.541903\n",
       "test_f1            0.602859\n",
       "dtype: float64"
      ]
     },
     "metadata": {},
     "output_type": "display_data"
    }
   ],
   "source": [
    "# Cross Validaiton\n",
    "cv = 20\n",
    "scores = cross_validate(lr_pca, X_transformed, y, cv=cv, scoring=madrs_scores)\n",
    "df_lr_pca = pd.DataFrame(scores, index=range(cv))\n",
    "df_lr_pca.to_csv(RPATH+\"H4_lr_pca_cv.csv\")\n",
    "display(df_lr_pca.mean())"
   ]
  },
  {
   "cell_type": "code",
   "execution_count": 13,
   "id": "d88ac1c0",
   "metadata": {},
   "outputs": [
    {
     "name": "stdout",
     "output_type": "stream",
     "text": [
      "train accuracy: 1.0\n",
      "val accuracy: 0.9838709677419355\n",
      "test accuracy: 0.9354838709677419\n"
     ]
    }
   ],
   "source": [
    "rf_pca = RandomForestClassifier()\n",
    "rf_pca.fit(X_train_transformed, y_train)\n",
    "y_train_pred = rf_pca.predict(X_train_transformed)\n",
    "y_val_pred = rf_pca.predict(X_val_transformed)\n",
    "y_test_pred = rf_pca.predict(X_test_transformed)\n",
    "train_accuracy = accuracy_score(y_train, y_train_pred)\n",
    "val_accuracy = accuracy_score(y_val, y_val_pred)\n",
    "test_accuracy = accuracy_score(y_test, y_test_pred)\n",
    "\n",
    "print(\"train accuracy:\", train_accuracy)\n",
    "print(\"val accuracy:\", val_accuracy)\n",
    "print(\"test accuracy:\", test_accuracy)"
   ]
  },
  {
   "cell_type": "code",
   "execution_count": 14,
   "id": "a99c8ba4",
   "metadata": {},
   "outputs": [
    {
     "data": {
      "text/plain": [
       "fit_time           0.840939\n",
       "score_time         0.006684\n",
       "test_mild_acc      0.966284\n",
       "test_mild_f1       0.885986\n",
       "test_severe_acc    1.000000\n",
       "test_severe_f1     1.000000\n",
       "test_accuracy      0.975540\n",
       "test_f1            0.968886\n",
       "dtype: float64"
      ]
     },
     "metadata": {},
     "output_type": "display_data"
    }
   ],
   "source": [
    "# Cross Validaiton\n",
    "cv = 20\n",
    "scores = cross_validate(rf_pca, X_transformed, y, cv=cv, scoring=madrs_scores)\n",
    "df_rf_pca = pd.DataFrame(scores, index=range(cv))\n",
    "df_rf_pca.to_csv(RPATH+\"H4_rf_pca_cv.csv\")\n",
    "display(df_rf_pca.mean())"
   ]
  },
  {
   "cell_type": "markdown",
   "id": "6937d72f",
   "metadata": {},
   "source": [
    "PCA didn't help much in case of RF; In case of Logistic Regression, it vastly improved the F1 score."
   ]
  },
  {
   "cell_type": "code",
   "execution_count": null,
   "id": "7583fb5e",
   "metadata": {},
   "outputs": [],
   "source": []
  },
  {
   "cell_type": "code",
   "execution_count": null,
   "id": "9d6791f7",
   "metadata": {},
   "outputs": [],
   "source": []
  }
 ],
 "metadata": {
  "kernelspec": {
   "display_name": "Python 3 (ipykernel)",
   "language": "python",
   "name": "python3"
  },
  "language_info": {
   "codemirror_mode": {
    "name": "ipython",
    "version": 3
   },
   "file_extension": ".py",
   "mimetype": "text/x-python",
   "name": "python",
   "nbconvert_exporter": "python",
   "pygments_lexer": "ipython3",
   "version": "3.9.6"
  }
 },
 "nbformat": 4,
 "nbformat_minor": 5
}
